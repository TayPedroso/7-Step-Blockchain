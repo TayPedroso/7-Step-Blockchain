{
 "cells": [
  {
   "cell_type": "markdown",
   "metadata": {},
   "source": [
    "# KDNuggets Blockchain in 7 Steps Blogpost"
   ]
  },
  {
   "cell_type": "markdown",
   "metadata": {},
   "source": [
    "https://www.kdnuggets.com/2018/04/blockchain-explained-7-python-functions.html"
   ]
  },
  {
   "cell_type": "code",
   "execution_count": 2,
   "metadata": {},
   "outputs": [],
   "source": [
    "import json\n",
    "import hashlib"
   ]
  },
  {
   "cell_type": "markdown",
   "metadata": {},
   "source": [
    "> At the heart of the blockchain is the hashing function"
   ]
  },
  {
   "cell_type": "code",
   "execution_count": 21,
   "metadata": {},
   "outputs": [],
   "source": [
    "def hash_function(k):\n",
    "    \"\"\"Hashes our transaction\"\"\"\n",
    "    if type(k) is not str:\n",
    "        k = json.dumps(k, sort_keys=True)\n",
    "        k = k.encode('utf-8')\n",
    "        \n",
    "    return hashlib.sha256(k).hexdigest()"
   ]
  },
  {
   "cell_type": "markdown",
   "metadata": {},
   "source": [
    "> The ‘state’ is the record of who owns want. For example, I have 10 coins and I give 1 to Medium, then the state will be the value of the dictionary below."
   ]
  },
  {
   "cell_type": "markdown",
   "metadata": {},
   "source": [
    "`{‘transaction’: {‘Tom’: 9, ‘Medium’: 1}}`"
   ]
  },
  {
   "cell_type": "markdown",
   "metadata": {},
   "source": [
    "### Function 1.  Update State"
   ]
  },
  {
   "cell_type": "code",
   "execution_count": 13,
   "metadata": {},
   "outputs": [],
   "source": [
    "def update_state(transaction, state):\n",
    "    state = state.copy()\n",
    "    \n",
    "    for key in transaction:\n",
    "        if key in state.keys():\n",
    "            state[key] += transaction[key]\n",
    "        else:\n",
    "            state[key] = transaction[key]\n",
    "            \n",
    "    return state"
   ]
  },
  {
   "cell_type": "markdown",
   "metadata": {},
   "source": [
    "> ..overdrafts cannot exist.. transactions must balance"
   ]
  },
  {
   "cell_type": "markdown",
   "metadata": {},
   "source": [
    "### Function 2. Validate Transaction"
   ]
  },
  {
   "cell_type": "code",
   "execution_count": 14,
   "metadata": {},
   "outputs": [],
   "source": [
    "def valid_transaction(transaction, state):\n",
    "    \"\"\"A valid transaction must sum to 0\"\"\"\n",
    "    if sum(transaction.values()) is not 0:\n",
    "        return False\n",
    "    \n",
    "    for key in transaction.keys():\n",
    "        if key in state.keys():\n",
    "            account_balance = state[key]\n",
    "        else:\n",
    "            account_balance = 0\n",
    "            \n",
    "        if account_balance + transaction[key] < 0:\n",
    "            return False\n",
    "        \n",
    "    return True"
   ]
  },
  {
   "cell_type": "markdown",
   "metadata": {},
   "source": [
    "Build the block"
   ]
  },
  {
   "cell_type": "markdown",
   "metadata": {},
   "source": [
    "### Function 3.  Make Block"
   ]
  },
  {
   "cell_type": "code",
   "execution_count": 32,
   "metadata": {},
   "outputs": [],
   "source": [
    "def make_block(transactions, chain):\n",
    "    \"\"\"Make a block to go into the chain.\"\"\"\n",
    "    parent_hash = chain[-1]['hash']\n",
    "    block_number= chain[-1]['contents']['block_number'] + 1\n",
    "    \n",
    "    block_contents = {\n",
    "        'block_number': block_number,\n",
    "        'parent_hash': parent_hash,\n",
    "        'transaction_count': block_number + 1,\n",
    "        'transaction': [transactions]\n",
    "    }\n",
    "    \n",
    "    return {'hash': hash_function(block_contents),\n",
    "           'contents': block_contents }"
   ]
  },
  {
   "cell_type": "markdown",
   "metadata": {},
   "source": [
    "Check contents of previous block"
   ]
  },
  {
   "cell_type": "markdown",
   "metadata": {},
   "source": [
    "### Function 4.  Check Block Hash"
   ]
  },
  {
   "cell_type": "code",
   "execution_count": 16,
   "metadata": {},
   "outputs": [],
   "source": [
    "def check_block_hash(block):\n",
    "    expected_hash = hash_function(block['contents'])\n",
    "    \n",
    "    if block['hash'] is not expected_hash:\n",
    "        raise\n",
    "        \n",
    "    return"
   ]
  },
  {
   "cell_type": "markdown",
   "metadata": {},
   "source": [
    "Create Block and Update Blockchain"
   ]
  },
  {
   "cell_type": "markdown",
   "metadata": {},
   "source": [
    "### Function 5.  Check Block Validity"
   ]
  },
  {
   "cell_type": "code",
   "execution_count": 17,
   "metadata": {},
   "outputs": [],
   "source": [
    "def check_block_validity(block, parent, state):\n",
    "    parent_number = parents['contents']['block_number']\n",
    "    parent_hash = parent['hash']\n",
    "    block_number= block['contents']['block_number']\n",
    "    \n",
    "    for transaction in block['contents']['transaction']:\n",
    "        if valid_transaction(transaction, state):\n",
    "            state = update_state(transaction, state)\n",
    "        else:\n",
    "            raise\n",
    "            \n",
    "    check_block_hash(block)\n",
    "    \n",
    "    if block_number is not parent_number + 1:\n",
    "        raise\n",
    "        \n",
    "    if block['contents']['parent_hash'] is not parent_hash:\n",
    "        raise\n",
    "        \n",
    "    return state"
   ]
  },
  {
   "cell_type": "markdown",
   "metadata": {},
   "source": [
    "Verify and Check Chain"
   ]
  },
  {
   "cell_type": "markdown",
   "metadata": {},
   "source": [
    "### Function 6.  Check Chain"
   ]
  },
  {
   "cell_type": "code",
   "execution_count": 18,
   "metadata": {},
   "outputs": [],
   "source": [
    "def check_chain(chain):\n",
    "    \"\"\"Check if chain is valid\"\"\"\n",
    "    if type(chain) is str:\n",
    "        try:\n",
    "            chain = json.loads(chain)\n",
    "            assert (type(chain) == list)\n",
    "        except ValueError:\n",
    "            # String passed in was not valid JSON\n",
    "            return False\n",
    "    elif type(chain) is not list:\n",
    "        return False\n",
    "    \n",
    "    state = {}\n",
    "    \n",
    "    for transaction in chain[0]['contents']['transaction']:\n",
    "        state = update_state(transaction, state)\n",
    "        \n",
    "    check_block_hash(chain[0])\n",
    "    parent = chain[0]\n",
    "    \n",
    "    for block in chain[1:]:\n",
    "        state = check_block_validity(block, parent, state)\n",
    "        parent= block\n",
    "        \n",
    "    return state"
   ]
  },
  {
   "cell_type": "markdown",
   "metadata": {},
   "source": [
    "Transaction function "
   ]
  },
  {
   "cell_type": "markdown",
   "metadata": {},
   "source": [
    "### Function 7.  Transaction to Chain"
   ]
  },
  {
   "cell_type": "code",
   "execution_count": 19,
   "metadata": {},
   "outputs": [],
   "source": [
    "def add_transaction_to_chain(transaction, state, chain):\n",
    "    if valid_transaction(transaction, state):\n",
    "        state = update_state(transaction, state)\n",
    "    else:\n",
    "        raise Exception('Invalid transaction.')\n",
    "        \n",
    "    my_block = make_block(state, chain)\n",
    "    chain.append(my_block)\n",
    "    \n",
    "    for transaction in chain:\n",
    "        check_chain(transaction)\n",
    "        \n",
    "    return state, chain"
   ]
  },
  {
   "cell_type": "markdown",
   "metadata": {},
   "source": [
    "## blockchain data"
   ]
  },
  {
   "cell_type": "code",
   "execution_count": 26,
   "metadata": {},
   "outputs": [],
   "source": [
    "genesis_block = {\n",
    "    'hash': hash_function({\n",
    "        'block_number': 0,\n",
    "        'parent_hash': None,\n",
    "        'transaction_count': 1,\n",
    "        'transaction': [{'Tom': 10}]\n",
    "    }),\n",
    "    'contents': {\n",
    "        'block_number': 0,\n",
    "        'parent_hash': None,\n",
    "        'transaction_count': 1,\n",
    "        'transaction': [{'Tom': 10}]  \n",
    "    }\n",
    "}\n",
    "\n",
    "block_chain = [genesis_block]\n",
    "chain_state = {'Tom': 10}"
   ]
  },
  {
   "cell_type": "markdown",
   "metadata": {},
   "source": [
    "## test transaction"
   ]
  },
  {
   "cell_type": "code",
   "execution_count": 33,
   "metadata": {},
   "outputs": [],
   "source": [
    "chain_state, block_chain = add_transaction_to_chain(transaction=\n",
    "                                                   {'Tom': -1,\n",
    "                                                    'Medium': 1},\n",
    "                                                   state=chain_state,\n",
    "                                                   chain=block_chain)"
   ]
  },
  {
   "cell_type": "code",
   "execution_count": 34,
   "metadata": {},
   "outputs": [
    {
     "data": {
      "text/plain": [
       "([{'contents': {'block_number': 0,\n",
       "    'parent_hash': None,\n",
       "    'transaction': [{'Tom': 10}],\n",
       "    'transaction_count': 1},\n",
       "   'hash': '064d0b480b3b92761f31831d30ae9f01954efaa62371b4b44f11465ec22abe93'},\n",
       "  {'contents': {'block_number': 1,\n",
       "    'parent_hash': '064d0b480b3b92761f31831d30ae9f01954efaa62371b4b44f11465ec22abe93',\n",
       "    'transaction': [{'Medium': 1, 'Tom': 9}],\n",
       "    'transaction_count': 2},\n",
       "   'hash': '3003c0039b4a9c9d13f028c3572567864746f40dcaec8b000ae6ca562c56409e'}],\n",
       " {'Medium': 1, 'Tom': 9})"
      ]
     },
     "execution_count": 34,
     "metadata": {},
     "output_type": "execute_result"
    }
   ],
   "source": [
    "block_chain, chain_state"
   ]
  },
  {
   "cell_type": "code",
   "execution_count": null,
   "metadata": {},
   "outputs": [],
   "source": []
  }
 ],
 "metadata": {
  "kernelspec": {
   "display_name": "Python 3",
   "language": "python",
   "name": "python3"
  },
  "language_info": {
   "codemirror_mode": {
    "name": "ipython",
    "version": 3
   },
   "file_extension": ".py",
   "mimetype": "text/x-python",
   "name": "python",
   "nbconvert_exporter": "python",
   "pygments_lexer": "ipython3",
   "version": "3.6.4"
  }
 },
 "nbformat": 4,
 "nbformat_minor": 2
}
