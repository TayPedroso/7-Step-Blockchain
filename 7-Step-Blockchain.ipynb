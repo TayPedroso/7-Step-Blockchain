{
 "cells": [
  {
   "cell_type": "markdown",
   "metadata": {},
   "source": [
    "# KDNuggets Blockchain in 7 Steps Blogpost"
   ]
  },
  {
   "cell_type": "markdown",
   "metadata": {},
   "source": [
    "https://www.kdnuggets.com/2018/04/blockchain-explained-7-python-functions.html"
   ]
  },
  {
   "cell_type": "markdown",
   "metadata": {},
   "source": [
    "> At the heart of the blockchain is the hashing function"
   ]
  },
  {
   "cell_type": "code",
   "execution_count": 1,
   "metadata": {},
   "outputs": [],
   "source": [
    "def hash_function(k):\n",
    "    \"\"\"Hashes our transaction\"\"\"\n",
    "    if type(k) is not str:\n",
    "        k = json.dumps(k, sort_keys=True)\n",
    "        \n",
    "    return hashlib.sha256(k).hexdigest()"
   ]
  },
  {
   "cell_type": "markdown",
   "metadata": {},
   "source": [
    "> The ‘state’ is the record of who owns want. For example, I have 10 coins and I give 1 to Medium, then the state will be the value of the dictionary below."
   ]
  },
  {
   "cell_type": "markdown",
   "metadata": {},
   "source": [
    "`{‘transaction’: {‘Tom’: 9, ‘Medium’: 1}}`"
   ]
  },
  {
   "cell_type": "code",
   "execution_count": 2,
   "metadata": {},
   "outputs": [],
   "source": [
    "def update_state(transaction, state):\n",
    "    state = state.copy()\n",
    "    \n",
    "    for key in transaction:\n",
    "        if key in state.keys():\n",
    "            state[key] += transaction[key]\n",
    "        else:\n",
    "            state[key] = transaction[key]\n",
    "            \n",
    "    return state"
   ]
  },
  {
   "cell_type": "markdown",
   "metadata": {},
   "source": [
    "> ..overdrafts cannot exist.. transactions must balance"
   ]
  },
  {
   "cell_type": "code",
   "execution_count": 3,
   "metadata": {},
   "outputs": [],
   "source": [
    "def valid_transaction(transaction, state):\n",
    "    \"\"\"A valid transaction must sum to 0\"\"\"\n",
    "    if sum(transaction.values()) is not 0:\n",
    "        return False\n",
    "    \n",
    "    for key in transaction.keys():\n",
    "        if key in state.keys():\n",
    "            "
   ]
  },
  {
   "cell_type": "code",
   "execution_count": null,
   "metadata": {},
   "outputs": [],
   "source": []
  }
 ],
 "metadata": {
  "kernelspec": {
   "display_name": "Python 3",
   "language": "python",
   "name": "python3"
  },
  "language_info": {
   "codemirror_mode": {
    "name": "ipython",
    "version": 3
   },
   "file_extension": ".py",
   "mimetype": "text/x-python",
   "name": "python",
   "nbconvert_exporter": "python",
   "pygments_lexer": "ipython3",
   "version": "3.6.4"
  }
 },
 "nbformat": 4,
 "nbformat_minor": 2
}
